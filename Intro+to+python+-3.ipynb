{
 "cells": [
  {
   "cell_type": "code",
   "execution_count": 266,
   "metadata": {
    "collapsed": true
   },
   "outputs": [],
   "source": [
    "#lists\n",
    "python_versions = [1.0, 1.5, 1.6, 2.0, 2.1, 2.2, 2.3, 2.4, 2.5, 2.6, 2.7, 3.0, 3.1, 3.2, 3.3, 3.4, 3.5, 3.6]"
   ]
  },
  {
   "cell_type": "code",
   "execution_count": 267,
   "metadata": {
    "collapsed": false
   },
   "outputs": [
    {
     "data": {
      "text/plain": [
       "3.6"
      ]
     },
     "execution_count": 267,
     "metadata": {},
     "output_type": "execute_result"
    }
   ],
   "source": [
    "python_versions[-1] #The index -1 refers to the last element of the list, -2 to the second to last, and so on."
   ]
  },
  {
   "cell_type": "code",
   "execution_count": 268,
   "metadata": {
    "collapsed": true
   },
   "outputs": [],
   "source": [
    "my_list = ['a','b','c','d','e']"
   ]
  },
  {
   "cell_type": "code",
   "execution_count": 269,
   "metadata": {
    "collapsed": false
   },
   "outputs": [
    {
     "data": {
      "text/plain": [
       "'e'"
      ]
     },
     "execution_count": 269,
     "metadata": {},
     "output_type": "execute_result"
    }
   ],
   "source": [
    "my_list[4]"
   ]
  },
  {
   "cell_type": "code",
   "execution_count": 270,
   "metadata": {
    "collapsed": false
   },
   "outputs": [],
   "source": [
    " days_in_month = [31,28,31,30,31,30,31,31,30,31,30,31]"
   ]
  },
  {
   "cell_type": "code",
   "execution_count": 271,
   "metadata": {
    "collapsed": false
   },
   "outputs": [
    {
     "data": {
      "text/plain": [
       "30"
      ]
     },
     "execution_count": 271,
     "metadata": {},
     "output_type": "execute_result"
    }
   ],
   "source": [
    "days_in_month[8]"
   ]
  },
  {
   "cell_type": "code",
   "execution_count": 272,
   "metadata": {
    "collapsed": false
   },
   "outputs": [
    {
     "name": "stdout",
     "output_type": "stream",
     "text": [
      "31\n"
     ]
    }
   ],
   "source": [
    "def how_many_days(month_number):\n",
    "    \"\"\"Returns the number of days in a month.\n",
    "    WARNING: This function doesn't account for leap years!\n",
    "    \"\"\"\n",
    "    days_in_month = [31,28,31,30,31,30,31,31,30,31,30,31]\n",
    "    return days_in_month[month_number+1]\n",
    " \n",
    "print(how_many_days(8))"
   ]
  },
  {
   "cell_type": "code",
   "execution_count": 273,
   "metadata": {
    "collapsed": true
   },
   "outputs": [],
   "source": [
    "#slicingLists\n",
    "months = ['January', 'February', 'March', 'April', 'May', 'June', 'July', 'August', 'September', 'October', 'November', 'December']"
   ]
  },
  {
   "cell_type": "code",
   "execution_count": 274,
   "metadata": {
    "collapsed": true
   },
   "outputs": [],
   "source": [
    "q3 = months[6:9]"
   ]
  },
  {
   "cell_type": "code",
   "execution_count": 275,
   "metadata": {
    "collapsed": false
   },
   "outputs": [
    {
     "name": "stdout",
     "output_type": "stream",
     "text": [
      "['July', 'August', 'September']\n"
     ]
    }
   ],
   "source": [
    "print(q3)"
   ]
  },
  {
   "cell_type": "code",
   "execution_count": 276,
   "metadata": {
    "collapsed": false
   },
   "outputs": [
    {
     "name": "stdout",
     "output_type": "stream",
     "text": [
      "['January', 'February', 'March', 'April', 'May', 'June']\n"
     ]
    }
   ],
   "source": [
    "first_half = months[:6]\n",
    "print(first_half)"
   ]
  },
  {
   "cell_type": "code",
   "execution_count": 277,
   "metadata": {
    "collapsed": false
   },
   "outputs": [
    {
     "name": "stdout",
     "output_type": "stream",
     "text": [
      "['July', 'August', 'September', 'October', 'November', 'December']\n"
     ]
    }
   ],
   "source": [
    "second_half = months[6:]\n",
    "print(second_half)"
   ]
  },
  {
   "cell_type": "code",
   "execution_count": 278,
   "metadata": {
    "collapsed": true
   },
   "outputs": [],
   "source": [
    "eclipse_dates = ['June 21, 2001', 'December 4, 2002', 'November 23, 2003',\n",
    "                 'March 29, 2006', 'August 1, 2008', 'July 22, 2009',\n",
    "                 'July 11, 2010', 'November 13, 2012', 'March 20, 2015',\n",
    "                 'March 9, 2016']"
   ]
  },
  {
   "cell_type": "code",
   "execution_count": 279,
   "metadata": {
    "collapsed": false
   },
   "outputs": [
    {
     "name": "stdout",
     "output_type": "stream",
     "text": [
      "10\n",
      "['November 13, 2012', 'March 20, 2015', 'March 9, 2016']\n"
     ]
    }
   ],
   "source": [
    "#doubt\n",
    "print(len(eclipse_dates))\n",
    "print(eclipse_dates[7:10])\n"
   ]
  },
  {
   "cell_type": "code",
   "execution_count": 280,
   "metadata": {
    "collapsed": false
   },
   "outputs": [
    {
     "data": {
      "text/plain": [
       "'N'"
      ]
     },
     "execution_count": 280,
     "metadata": {},
     "output_type": "execute_result"
    }
   ],
   "source": [
    "sample_string = \"And Now For Something Completely Different\"\n",
    "sample_list = ['Graham', 'John', 'Terry', 'Eric', 'Terry', 'Michael']\n",
    "sample_string[4]"
   ]
  },
  {
   "cell_type": "code",
   "execution_count": 281,
   "metadata": {
    "collapsed": false
   },
   "outputs": [
    {
     "data": {
      "text/plain": [
       "'Michael'"
      ]
     },
     "execution_count": 281,
     "metadata": {},
     "output_type": "execute_result"
    }
   ],
   "source": [
    "sample_list[5]"
   ]
  },
  {
   "cell_type": "code",
   "execution_count": 282,
   "metadata": {
    "collapsed": false
   },
   "outputs": [
    {
     "data": {
      "text/plain": [
       "'Something'"
      ]
     },
     "execution_count": 282,
     "metadata": {},
     "output_type": "execute_result"
    }
   ],
   "source": [
    "sample_string[12:21]"
   ]
  },
  {
   "cell_type": "code",
   "execution_count": 283,
   "metadata": {
    "collapsed": false
   },
   "outputs": [
    {
     "data": {
      "text/plain": [
       "['Terry', 'Eric']"
      ]
     },
     "execution_count": 283,
     "metadata": {},
     "output_type": "execute_result"
    }
   ],
   "source": [
    "sample_list[2:4]"
   ]
  },
  {
   "cell_type": "code",
   "execution_count": 284,
   "metadata": {
    "collapsed": false
   },
   "outputs": [
    {
     "data": {
      "text/plain": [
       "42"
      ]
     },
     "execution_count": 284,
     "metadata": {},
     "output_type": "execute_result"
    }
   ],
   "source": [
    "len(sample_string)"
   ]
  },
  {
   "cell_type": "code",
   "execution_count": 285,
   "metadata": {
    "collapsed": false
   },
   "outputs": [
    {
     "data": {
      "text/plain": [
       "6"
      ]
     },
     "execution_count": 285,
     "metadata": {},
     "output_type": "execute_result"
    }
   ],
   "source": [
    "len(sample_list)"
   ]
  },
  {
   "cell_type": "code",
   "execution_count": 286,
   "metadata": {
    "collapsed": false
   },
   "outputs": [
    {
     "data": {
      "text/plain": [
       "True"
      ]
     },
     "execution_count": 286,
     "metadata": {},
     "output_type": "execute_result"
    }
   ],
   "source": [
    "'thing' in sample_string"
   ]
  },
  {
   "cell_type": "code",
   "execution_count": 287,
   "metadata": {
    "collapsed": false
   },
   "outputs": [
    {
     "data": {
      "text/plain": [
       "False"
      ]
     },
     "execution_count": 287,
     "metadata": {},
     "output_type": "execute_result"
    }
   ],
   "source": [
    "'Rowan' in sample_list"
   ]
  },
  {
   "cell_type": "code",
   "execution_count": 288,
   "metadata": {
    "collapsed": true
   },
   "outputs": [],
   "source": [
    "#The obvious difference is that strings are sequences of letters, while list elements can be any type of object. \n",
    "#A more subtle difference is that lists can be modified, but strings can't be:"
   ]
  },
  {
   "cell_type": "code",
   "execution_count": 289,
   "metadata": {
    "collapsed": false
   },
   "outputs": [
    {
     "name": "stdout",
     "output_type": "stream",
     "text": [
      "['Graham', 'John', 'Terry', 'Vasu', 'Terry', 'Michael']\n"
     ]
    }
   ],
   "source": [
    "sample_list[3] = 'Vasu'\n",
    "print(sample_list)"
   ]
  },
  {
   "cell_type": "code",
   "execution_count": 290,
   "metadata": {
    "collapsed": false
   },
   "outputs": [
    {
     "ename": "TypeError",
     "evalue": "'str' object does not support item assignment",
     "output_type": "error",
     "traceback": [
      "\u001b[0;31m---------------------------------------------------------------------------\u001b[0m",
      "\u001b[0;31mTypeError\u001b[0m                                 Traceback (most recent call last)",
      "\u001b[0;32m<ipython-input-290-e3542ae70ad4>\u001b[0m in \u001b[0;36m<module>\u001b[0;34m()\u001b[0m\n\u001b[0;32m----> 1\u001b[0;31m \u001b[0msample_string\u001b[0m\u001b[1;33m[\u001b[0m\u001b[1;36m8\u001b[0m\u001b[1;33m]\u001b[0m \u001b[1;33m=\u001b[0m \u001b[1;34m'f'\u001b[0m\u001b[1;33m\u001b[0m\u001b[0m\n\u001b[0m",
      "\u001b[0;31mTypeError\u001b[0m: 'str' object does not support item assignment"
     ]
    }
   ],
   "source": [
    "sample_string[8] = 'f'"
   ]
  },
  {
   "cell_type": "code",
   "execution_count": 291,
   "metadata": {
    "collapsed": true
   },
   "outputs": [],
   "source": [
    "#The technical term for whether an object can be modified is mutability. Lists are mutable, while strings are immutable"
   ]
  },
  {
   "cell_type": "code",
   "execution_count": 292,
   "metadata": {
    "collapsed": true
   },
   "outputs": [],
   "source": [
    "sentence1 = \"I wish to register a complaint.\"\n",
    "sentence2 = [\"I\", \"wish\", \"to\", \"register\", \"a\", \"complaint\", \".\"]"
   ]
  },
  {
   "cell_type": "code",
   "execution_count": 293,
   "metadata": {
    "collapsed": false
   },
   "outputs": [
    {
     "name": "stdout",
     "output_type": "stream",
     "text": [
      "['I', 'wish', 'to', 'register', 'a', 'complaint', '!']\n"
     ]
    }
   ],
   "source": [
    "sentence2[6]=\"!\"\n",
    "print sentence2"
   ]
  },
  {
   "cell_type": "code",
   "execution_count": 294,
   "metadata": {
    "collapsed": false
   },
   "outputs": [
    {
     "name": "stdout",
     "output_type": "stream",
     "text": [
      "['Our Majesty', 'wish', 'to', 'register', 'a', 'complaint', '!']\n"
     ]
    }
   ],
   "source": [
    "sentence2[0]= \"Our Majesty\"\n",
    "print sentence2"
   ]
  },
  {
   "cell_type": "code",
   "execution_count": 295,
   "metadata": {
    "collapsed": false
   },
   "outputs": [
    {
     "ename": "TypeError",
     "evalue": "'str' object does not support item assignment",
     "output_type": "error",
     "traceback": [
      "\u001b[0;31m---------------------------------------------------------------------------\u001b[0m",
      "\u001b[0;31mTypeError\u001b[0m                                 Traceback (most recent call last)",
      "\u001b[0;32m<ipython-input-295-34722657a39b>\u001b[0m in \u001b[0;36m<module>\u001b[0;34m()\u001b[0m\n\u001b[0;32m----> 1\u001b[0;31m \u001b[0msentence1\u001b[0m\u001b[1;33m[\u001b[0m\u001b[1;36m30\u001b[0m\u001b[1;33m]\u001b[0m\u001b[1;33m=\u001b[0m\u001b[1;34m\"!\"\u001b[0m\u001b[1;33m\u001b[0m\u001b[0m\n\u001b[0m",
      "\u001b[0;31mTypeError\u001b[0m: 'str' object does not support item assignment"
     ]
    }
   ],
   "source": [
    "sentence1[30]=\"!\"\n"
   ]
  },
  {
   "cell_type": "code",
   "execution_count": 296,
   "metadata": {
    "collapsed": false
   },
   "outputs": [
    {
     "name": "stdout",
     "output_type": "stream",
     "text": [
      "['We', 'want', 'to', 'register', 'a', 'complaint', '!']\n"
     ]
    }
   ],
   "source": [
    "sentence2[0:2] = [\"We\", \"want\"]\n",
    "print sentence2"
   ]
  },
  {
   "cell_type": "code",
   "execution_count": 297,
   "metadata": {
    "collapsed": false
   },
   "outputs": [
    {
     "name": "stdout",
     "output_type": "stream",
     "text": [
      "Dennis\n",
      "Old Woman\n"
     ]
    }
   ],
   "source": [
    "#strings are immutable\n",
    "name = \"Old Woman\"\n",
    "person = name\n",
    "name = \"Dennis\"\n",
    "print(name)\n",
    "print(person)"
   ]
  },
  {
   "cell_type": "code",
   "execution_count": 298,
   "metadata": {
    "collapsed": false
   },
   "outputs": [
    {
     "data": {
      "text/plain": [
       "89"
      ]
     },
     "execution_count": 298,
     "metadata": {},
     "output_type": "execute_result"
    }
   ],
   "source": [
    "batch_sizes = [15, 6, 89, 34, 65, 35]\n",
    "max(batch_sizes)"
   ]
  },
  {
   "cell_type": "code",
   "execution_count": 299,
   "metadata": {
    "collapsed": false
   },
   "outputs": [
    {
     "data": {
      "text/plain": [
       "'Reticulated Python'"
      ]
     },
     "execution_count": 299,
     "metadata": {},
     "output_type": "execute_result"
    }
   ],
   "source": [
    "python_varieties = ['Burmese Python', 'African Rock Python', 'Ball Python', 'Reticulated Python', 'Angolan Python']\n",
    "x=max(python_varieties)\n",
    "x"
   ]
  },
  {
   "cell_type": "code",
   "execution_count": 300,
   "metadata": {
    "collapsed": false
   },
   "outputs": [
    {
     "data": {
      "text/plain": [
       "'African Swallow'"
      ]
     },
     "execution_count": 300,
     "metadata": {},
     "output_type": "execute_result"
    }
   ],
   "source": [
    "#doubt\n",
    "max([42, 'African Swallow'])"
   ]
  },
  {
   "cell_type": "code",
   "execution_count": 301,
   "metadata": {
    "collapsed": false
   },
   "outputs": [
    {
     "data": {
      "text/plain": [
       "6"
      ]
     },
     "execution_count": 301,
     "metadata": {},
     "output_type": "execute_result"
    }
   ],
   "source": [
    "min(batch_sizes)"
   ]
  },
  {
   "cell_type": "code",
   "execution_count": 302,
   "metadata": {
    "collapsed": false
   },
   "outputs": [
    {
     "data": {
      "text/plain": [
       "[6, 15, 34, 35, 65, 89]"
      ]
     },
     "execution_count": 302,
     "metadata": {},
     "output_type": "execute_result"
    }
   ],
   "source": [
    "sorted(batch_sizes)"
   ]
  },
  {
   "cell_type": "code",
   "execution_count": 303,
   "metadata": {
    "collapsed": false
   },
   "outputs": [
    {
     "name": "stdout",
     "output_type": "stream",
     "text": [
      "fore\n",
      "aft\n",
      "starboard\n",
      "port\n"
     ]
    }
   ],
   "source": [
    "nautical_directions = \"\\n\".join([\"fore\", \"aft\", \"starboard\", \"port\"])\n",
    "print(nautical_directions)"
   ]
  },
  {
   "cell_type": "code",
   "execution_count": 304,
   "metadata": {
    "collapsed": false
   },
   "outputs": [],
   "source": [
    "def top_three(input_list):\n",
    "    input_list=sorted(input_list)\n",
    "    x=input_list[-1]\n",
    "    y=input_list[-2]\n",
    "    z=input_list[-3]\n",
    "    return x,y,z\n",
    "    "
   ]
  },
  {
   "cell_type": "code",
   "execution_count": 305,
   "metadata": {
    "collapsed": false
   },
   "outputs": [
    {
     "data": {
      "text/plain": [
       "(8, 6, 5)"
      ]
     },
     "execution_count": 305,
     "metadata": {},
     "output_type": "execute_result"
    }
   ],
   "source": [
    "df=[2, 3, 5, 6, 8, 4, 2, 1]\n",
    "top_three(df)"
   ]
  },
  {
   "cell_type": "code",
   "execution_count": 306,
   "metadata": {
    "collapsed": true
   },
   "outputs": [],
   "source": [
    "def median(numbers):\n",
    "    numbers.sort() \n",
    "    if len(numbers) % 2:\n",
    "        middle_index = int(len(numbers)/2)\n",
    "        return numbers[middle_index]\n",
    "    else:\n",
    "        right_of_middle = len(numbers)//2 \n",
    "        left_of_middle = right_of_middle - 1\n",
    "        return (numbers[right_of_middle] + numbers[left_of_middle])/2"
   ]
  },
  {
   "cell_type": "code",
   "execution_count": 307,
   "metadata": {
    "collapsed": false
   },
   "outputs": [
    {
     "data": {
      "text/plain": [
       "4"
      ]
     },
     "execution_count": 307,
     "metadata": {},
     "output_type": "execute_result"
    }
   ],
   "source": [
    "numbers=[2, 3, 5, 6, 8, 4, 1]\n",
    "median(numbers)"
   ]
  },
  {
   "cell_type": "code",
   "execution_count": 308,
   "metadata": {
    "collapsed": false
   },
   "outputs": [],
   "source": [
    "def list_sum(input_list):\n",
    "    y = 0\n",
    "    for i in input_list:\n",
    "        y=i+y\n",
    "    return y"
   ]
  },
  {
   "cell_type": "code",
   "execution_count": 309,
   "metadata": {
    "collapsed": false
   },
   "outputs": [
    {
     "data": {
      "text/plain": [
       "6"
      ]
     },
     "execution_count": 309,
     "metadata": {},
     "output_type": "execute_result"
    }
   ],
   "source": [
    "test1 = list_sum([1, 2, 3])\n",
    "test1"
   ]
  },
  {
   "cell_type": "code",
   "execution_count": 310,
   "metadata": {
    "collapsed": false
   },
   "outputs": [
    {
     "name": "stdout",
     "output_type": "stream",
     "text": [
      "0\n",
      "1\n",
      "2\n"
     ]
    }
   ],
   "source": [
    "for i in range(len([1, 20, 3])):\n",
    "    print i"
   ]
  },
  {
   "cell_type": "code",
   "execution_count": 311,
   "metadata": {
    "collapsed": false
   },
   "outputs": [
    {
     "data": {
      "text/plain": [
       "0"
      ]
     },
     "execution_count": 311,
     "metadata": {},
     "output_type": "execute_result"
    }
   ],
   "source": [
    "test2 = list_sum([-1, 0, 1])\n",
    "test2"
   ]
  },
  {
   "cell_type": "code",
   "execution_count": 312,
   "metadata": {
    "collapsed": false
   },
   "outputs": [
    {
     "name": "stdout",
     "output_type": "stream",
     "text": [
      "2\n"
     ]
    }
   ],
   "source": [
    "tokens = ['<greeting>', 'Hello World!', '</greeting>']\n",
    "count = 0\n",
    "for token in tokens:\n",
    "    if token[0] == '<':\n",
    "        count += 1\n",
    "print count\n"
   ]
  },
  {
   "cell_type": "code",
   "execution_count": 313,
   "metadata": {
    "collapsed": false
   },
   "outputs": [
    {
     "name": "stdout",
     "output_type": "stream",
     "text": [
      "<\n",
      "<\n",
      "2\n"
     ]
    }
   ],
   "source": [
    "tokens = ['<greeting>', 'Hello World!', '</greeting>']\n",
    "count = 0\n",
    "for i in tokens:\n",
    "    if i[0] == '<':\n",
    "        count += 1\n",
    "        print i[0]\n",
    "print count"
   ]
  },
  {
   "cell_type": "code",
   "execution_count": 314,
   "metadata": {
    "collapsed": false
   },
   "outputs": [
    {
     "name": "stdout",
     "output_type": "stream",
     "text": [
      "g\n",
      "1\n"
     ]
    }
   ],
   "source": [
    "tokens = ['<greeting>', 'Hello World!', '</greeting>']\n",
    "count = 0\n",
    "for i in tokens:\n",
    "    if i[count] == '<':\n",
    "        count += 1\n",
    "        print i[count]\n",
    "print count"
   ]
  },
  {
   "cell_type": "code",
   "execution_count": 315,
   "metadata": {
    "collapsed": false
   },
   "outputs": [
    {
     "name": "stdout",
     "output_type": "stream",
     "text": [
      "['<Greeting>']\n",
      "['<Greeting>', 'Hello World!']\n",
      "['<Greeting>', 'Hello World!', '</Greeting>']\n"
     ]
    }
   ],
   "source": [
    "hmp=[]\n",
    "for i in tokens:\n",
    "    hmp.append(i.title())\n",
    "    print hmp"
   ]
  },
  {
   "cell_type": "code",
   "execution_count": 316,
   "metadata": {
    "collapsed": false
   },
   "outputs": [
    {
     "data": {
      "text/plain": [
       "['<Greeting>', 'Hello World!', '</Greeting>']"
      ]
     },
     "execution_count": 316,
     "metadata": {},
     "output_type": "execute_result"
    }
   ],
   "source": [
    "hmp"
   ]
  },
  {
   "cell_type": "code",
   "execution_count": 317,
   "metadata": {
    "collapsed": false
   },
   "outputs": [
    {
     "name": "stdout",
     "output_type": "stream",
     "text": [
      "0\n",
      "1\n",
      "2\n",
      "3\n"
     ]
    }
   ],
   "source": [
    "for number in range(4):\n",
    "    print(number)"
   ]
  },
  {
   "cell_type": "code",
   "execution_count": 318,
   "metadata": {
    "collapsed": true
   },
   "outputs": [],
   "source": [
    "def html_list(inputlist):\n",
    "    print(\"<ul>\")\n",
    "    for i in inputlist:\n",
    "        print \"<li>\"+i+\"</li>\" \n",
    "    print(\"</ul>\")\n",
    "    return\n",
    " "
   ]
  },
  {
   "cell_type": "code",
   "execution_count": 319,
   "metadata": {
    "collapsed": false
   },
   "outputs": [
    {
     "name": "stdout",
     "output_type": "stream",
     "text": [
      "<ul>\n",
      "<li>First element</li>\n",
      "<li>Second element</li>\n",
      "<li>Third element</li>\n",
      "</ul>\n"
     ]
    }
   ],
   "source": [
    "inputlist = ['First element', 'Second element', 'Third element']\n",
    "print(\"<ul>\")\n",
    "for i in inputlist:\n",
    "    print \"<li>\"+i+\"</li>\"\n",
    "print(\"</ul>\")"
   ]
  },
  {
   "cell_type": "code",
   "execution_count": 320,
   "metadata": {
    "collapsed": false
   },
   "outputs": [
    {
     "name": "stdout",
     "output_type": "stream",
     "text": [
      "<ul>\n",
      "<li>First element</li>\n",
      "<li>Second element</li>\n",
      "<li>Third element</li>\n",
      "</ul>\n"
     ]
    }
   ],
   "source": [
    "x=html_list(inputlist)\n"
   ]
  },
  {
   "cell_type": "code",
   "execution_count": 321,
   "metadata": {
    "collapsed": false
   },
   "outputs": [],
   "source": [
    "y=0\n",
    "while y*y<80:\n",
    "    y+=1\n",
    "if y*y==24:\n",
    "    pass\n",
    "else:\n",
    "    y=y-1\n",
    "    "
   ]
  },
  {
   "cell_type": "code",
   "execution_count": 322,
   "metadata": {
    "collapsed": false
   },
   "outputs": [
    {
     "data": {
      "text/plain": [
       "8"
      ]
     },
     "execution_count": 322,
     "metadata": {},
     "output_type": "execute_result"
    }
   ],
   "source": [
    "y"
   ]
  },
  {
   "cell_type": "code",
   "execution_count": 323,
   "metadata": {
    "collapsed": false
   },
   "outputs": [
    {
     "data": {
      "text/plain": [
       "10"
      ]
     },
     "execution_count": 323,
     "metadata": {},
     "output_type": "execute_result"
    }
   ],
   "source": [
    "y=\"vasundhara\"\n",
    "len(y)"
   ]
  },
  {
   "cell_type": "code",
   "execution_count": 324,
   "metadata": {
    "collapsed": false
   },
   "outputs": [
    {
     "name": "stdout",
     "output_type": "stream",
     "text": [
      "Local Bear Eaten by Man Legislature Announces New Laws Peasant Discovers Violence Inherent in System Cat Rescues Fireman Stuck in Tree Brave\n"
     ]
    }
   ],
   "source": [
    "headlines = [\"Local Bear Eaten by Man\",\n",
    "             \"Legislature Announces New Laws\",\n",
    "             \"Peasant Discovers Violence Inherent in System\",\n",
    "             \"Cat Rescues Fireman Stuck in Tree\",\n",
    "             \"Brave Knight Runs Away\",\n",
    "             \"Papperbok Review: Totally Triffic\"]\n",
    "news_ticker = \"\"\n",
    "for headline in headlines:\n",
    "    news_ticker += headline + \" \"\n",
    "    if len(news_ticker) >= 140:\n",
    "        news_ticker = news_ticker[:140]\n",
    "        break\n",
    "print news_ticker"
   ]
  },
  {
   "cell_type": "code",
   "execution_count": 325,
   "metadata": {
    "collapsed": false
   },
   "outputs": [
    {
     "name": "stdout",
     "output_type": "stream",
     "text": [
      "1\n",
      "2\n",
      "3\n",
      "4\n",
      "['India', 'Delhi', 'Bhopal', 'Bhopal']\n",
      "1\n"
     ]
    }
   ],
   "source": [
    "#wrong method\n",
    "dedupe_list=[\"India\",\"India\",\"Delhi\",\"Bhopal\",\"Bhopal\"]\n",
    "y=0\n",
    "i=0\n",
    "if dedupe_list[y]==dedupe_list[i+1]:\n",
    "    del dedupe_list[y]\n",
    "    for i in range(len(dedupe_list)):\n",
    "        i=i+1\n",
    "        print i\n",
    "    print dedupe_list\n",
    "    if y < range(len(dedupe_list)):\n",
    "        y=y+1\n",
    "        print y\n",
    "elif dedupe_list[y]!=dedupe_list[i+1]:\n",
    "    for i in range(len(dedupe_list)):\n",
    "        i=i+1\n",
    "        print i\n",
    "   "
   ]
  },
  {
   "cell_type": "code",
   "execution_count": 326,
   "metadata": {
    "collapsed": true
   },
   "outputs": [],
   "source": [
    "def remove_duplicates(source):\n",
    "    target = []\n",
    "\n",
    "    for element in source:\n",
    "        if element not in target:\n",
    "            target.append(element)\n",
    "\n",
    "    return target"
   ]
  },
  {
   "cell_type": "code",
   "execution_count": 327,
   "metadata": {
    "collapsed": false
   },
   "outputs": [
    {
     "name": "stdout",
     "output_type": "stream",
     "text": [
      "['India', 'Delhi', 'Bhopal']\n"
     ]
    }
   ],
   "source": [
    "x=remove_duplicates(dedupe_list)\n",
    "print x"
   ]
  },
  {
   "cell_type": "code",
   "execution_count": 328,
   "metadata": {
    "collapsed": false
   },
   "outputs": [
    {
     "data": {
      "text/plain": [
       "['India', 'Delhi', 'Bhopal']"
      ]
     },
     "execution_count": 328,
     "metadata": {},
     "output_type": "execute_result"
    }
   ],
   "source": [
    "x"
   ]
  },
  {
   "cell_type": "code",
   "execution_count": 329,
   "metadata": {
    "collapsed": false
   },
   "outputs": [
    {
     "ename": "IndexError",
     "evalue": "list index out of range",
     "output_type": "error",
     "traceback": [
      "\u001b[0;31m---------------------------------------------------------------------------\u001b[0m",
      "\u001b[0;31mIndexError\u001b[0m                                Traceback (most recent call last)",
      "\u001b[0;32m<ipython-input-329-d688ed65f161>\u001b[0m in \u001b[0;36m<module>\u001b[0;34m()\u001b[0m\n\u001b[1;32m      6\u001b[0m \u001b[1;32mfor\u001b[0m \u001b[0my\u001b[0m \u001b[1;32min\u001b[0m \u001b[0mrange\u001b[0m\u001b[1;33m(\u001b[0m\u001b[0mlen\u001b[0m\u001b[1;33m(\u001b[0m\u001b[0mdedupe_list\u001b[0m\u001b[1;33m)\u001b[0m\u001b[1;33m)\u001b[0m\u001b[1;33m:\u001b[0m\u001b[1;33m\u001b[0m\u001b[0m\n\u001b[1;32m      7\u001b[0m     \u001b[1;32mfor\u001b[0m \u001b[0mi\u001b[0m \u001b[1;32min\u001b[0m \u001b[0mrange\u001b[0m\u001b[1;33m(\u001b[0m\u001b[0mlen\u001b[0m\u001b[1;33m(\u001b[0m\u001b[0mdedupe_list\u001b[0m\u001b[1;33m)\u001b[0m\u001b[1;33m)\u001b[0m\u001b[1;33m:\u001b[0m\u001b[1;33m\u001b[0m\u001b[0m\n\u001b[0;32m----> 8\u001b[0;31m         \u001b[1;32mif\u001b[0m \u001b[0mdedupe_list\u001b[0m\u001b[1;33m[\u001b[0m\u001b[0my\u001b[0m\u001b[1;33m]\u001b[0m\u001b[1;33m==\u001b[0m\u001b[0mdedupe_list\u001b[0m\u001b[1;33m[\u001b[0m\u001b[0mi\u001b[0m\u001b[1;33m]\u001b[0m\u001b[1;33m:\u001b[0m\u001b[1;33m\u001b[0m\u001b[0m\n\u001b[0m\u001b[1;32m      9\u001b[0m             \u001b[1;32mdel\u001b[0m \u001b[0mdedupe_list\u001b[0m\u001b[1;33m[\u001b[0m\u001b[0mi\u001b[0m\u001b[1;33m]\u001b[0m\u001b[1;33m\u001b[0m\u001b[0m\n\u001b[1;32m     10\u001b[0m             \u001b[0mi\u001b[0m\u001b[1;33m=\u001b[0m\u001b[0mi\u001b[0m\u001b[1;33m+\u001b[0m\u001b[1;36m1\u001b[0m\u001b[1;33m\u001b[0m\u001b[0m\n",
      "\u001b[0;31mIndexError\u001b[0m: list index out of range"
     ]
    }
   ],
   "source": [
    "#wrong method\n",
    "dedupe_list=[\"India\",\"India\",\"Delhi\",\"Bhopal\",\"Bhopal\"]\n",
    "y=0\n",
    "i=1\n",
    "\n",
    "for y in range(len(dedupe_list)):\n",
    "    for i in range(len(dedupe_list)):\n",
    "        if dedupe_list[y]==dedupe_list[i]:\n",
    "            del dedupe_list[i]\n",
    "            i=i+1\n",
    "        else:\n",
    "            i=i+1\n",
    "    y=y+1\n",
    "    "
   ]
  },
  {
   "cell_type": "code",
   "execution_count": 330,
   "metadata": {
    "collapsed": false
   },
   "outputs": [
    {
     "name": "stdout",
     "output_type": "stream",
     "text": [
      "0\n",
      "1\n",
      "2\n",
      "3\n"
     ]
    }
   ],
   "source": [
    "for y in range(len(dedupe_list)):\n",
    "    print y"
   ]
  },
  {
   "cell_type": "code",
   "execution_count": 331,
   "metadata": {
    "collapsed": true
   },
   "outputs": [],
   "source": [
    "x=set(dedupe_list)"
   ]
  },
  {
   "cell_type": "code",
   "execution_count": 332,
   "metadata": {
    "collapsed": false
   },
   "outputs": [
    {
     "data": {
      "text/plain": [
       "{'Bhopal', 'Delhi', 'India'}"
      ]
     },
     "execution_count": 332,
     "metadata": {},
     "output_type": "execute_result"
    }
   ],
   "source": [
    "x"
   ]
  },
  {
   "cell_type": "code",
   "execution_count": 333,
   "metadata": {
    "collapsed": true
   },
   "outputs": [],
   "source": [
    "nearest_square=set()\n",
    "y=0\n",
    "while y*y<2000:\n",
    "    nearest_square.add(y*y)\n",
    "    y+=1\n",
    "\n",
    "    "
   ]
  },
  {
   "cell_type": "code",
   "execution_count": 334,
   "metadata": {
    "collapsed": false
   },
   "outputs": [
    {
     "data": {
      "text/plain": [
       "{0,\n",
       " 1,\n",
       " 4,\n",
       " 9,\n",
       " 16,\n",
       " 25,\n",
       " 36,\n",
       " 49,\n",
       " 64,\n",
       " 81,\n",
       " 100,\n",
       " 121,\n",
       " 144,\n",
       " 169,\n",
       " 196,\n",
       " 225,\n",
       " 256,\n",
       " 289,\n",
       " 324,\n",
       " 361,\n",
       " 400,\n",
       " 441,\n",
       " 484,\n",
       " 529,\n",
       " 576,\n",
       " 625,\n",
       " 676,\n",
       " 729,\n",
       " 784,\n",
       " 841,\n",
       " 900,\n",
       " 961,\n",
       " 1024,\n",
       " 1089,\n",
       " 1156,\n",
       " 1225,\n",
       " 1296,\n",
       " 1369,\n",
       " 1444,\n",
       " 1521,\n",
       " 1600,\n",
       " 1681,\n",
       " 1764,\n",
       " 1849,\n",
       " 1936}"
      ]
     },
     "execution_count": 334,
     "metadata": {},
     "output_type": "execute_result"
    }
   ],
   "source": [
    "nearest_square"
   ]
  },
  {
   "cell_type": "code",
   "execution_count": 335,
   "metadata": {
    "collapsed": false
   },
   "outputs": [],
   "source": [
    "population={'Shanghai':17.8,'Istanbul':13.3,'Karachi':13.0,'Mumbai':12.5}\n",
    "population.get('kyx')"
   ]
  },
  {
   "cell_type": "code",
   "execution_count": 336,
   "metadata": {
    "collapsed": false
   },
   "outputs": [
    {
     "ename": "KeyError",
     "evalue": "'contain'",
     "output_type": "error",
     "traceback": [
      "\u001b[0;31m---------------------------------------------------------------------------\u001b[0m",
      "\u001b[0;31mKeyError\u001b[0m                                  Traceback (most recent call last)",
      "\u001b[0;32m<ipython-input-336-2715f8ce9e51>\u001b[0m in \u001b[0;36m<module>\u001b[0;34m()\u001b[0m\n\u001b[0;32m----> 1\u001b[0;31m \u001b[0mpopulation\u001b[0m\u001b[1;33m[\u001b[0m\u001b[1;34m'contain'\u001b[0m\u001b[1;33m]\u001b[0m\u001b[1;33m\u001b[0m\u001b[0m\n\u001b[0m",
      "\u001b[0;31mKeyError\u001b[0m: 'contain'"
     ]
    }
   ],
   "source": [
    "population['contain']"
   ]
  },
  {
   "cell_type": "code",
   "execution_count": 337,
   "metadata": {
    "collapsed": false
   },
   "outputs": [
    {
     "data": {
      "text/plain": [
       "17.8"
      ]
     },
     "execution_count": 337,
     "metadata": {},
     "output_type": "execute_result"
    }
   ],
   "source": [
    "population.get('Shanghai')"
   ]
  },
  {
   "cell_type": "code",
   "execution_count": 338,
   "metadata": {
    "collapsed": true
   },
   "outputs": [],
   "source": [
    "country_list=['Malta',\n",
    " 'Sudan',\n",
    " 'Oman',\n",
    " 'Jamaica',\n",
    " 'Pakistan',\n",
    " 'Netherlands',\n",
    " 'Venezuela',\n",
    " 'Tuvalu',\n",
    " 'Kazakhstan',\n",
    " 'Namibia',\n",
    " 'Congo {Democratic Rep}',\n",
    " 'Qatar',\n",
    " 'El Salvador',\n",
    " 'Macedonia',\n",
    " 'Morocco',\n",
    " 'Albania',\n",
    " 'Netherlands',\n",
    " 'Namibia',\n",
    " 'Moldova',\n",
    " 'Djibouti',\n",
    " 'Malaysia',\n",
    " 'Belarus',\n",
    " 'Niger',\n",
    " 'Thailand',\n",
    " 'Burkina',\n",
    " 'Panama',\n",
    " 'Libya',\n",
    " 'Kuwait',\n",
    " 'Dominican Republic',\n",
    " 'Andorra',\n",
    " 'Nauru',\n",
    " 'Guyana',\n",
    " 'Austria',\n",
    " 'Germany',\n",
    " 'Morocco',\n",
    " 'Sudan',\n",
    " 'Lebanon',\n",
    " 'Bahamas',\n",
    " 'Austria',\n",
    " 'Chad',\n",
    " 'Canada',\n",
    " 'Ivory Coast',\n",
    " 'Papua New Guinea',\n",
    " 'Mali',\n",
    " 'Marshall Islands',\n",
    " 'Morocco',\n",
    " 'Angola',\n",
    " 'New Zealand',\n",
    " 'Mali',\n",
    " 'Moldova',\n",
    " 'Libya',\n",
    " 'Bulgaria',\n",
    " 'Honduras',\n",
    " 'Comoros',\n",
    " 'Tunisia',\n",
    " 'Peru',\n",
    " 'Greece',\n",
    " 'Montenegro',\n",
    " 'Austria',\n",
    " 'Cambodia',\n",
    " 'St Lucia',\n",
    " 'Ecuador',\n",
    " 'Taiwan',\n",
    " 'Colombia',\n",
    " 'Liechtenstein',\n",
    " 'Monaco',\n",
    " 'Iraq',\n",
    " 'Zambia',\n",
    " 'Sri Lanka',\n",
    " 'Poland',\n",
    " 'Vanuatu',\n",
    " 'Barbados',\n",
    " 'Mauritius',\n",
    " 'Turkmenistan',\n",
    " 'Taiwan',\n",
    " 'Israel',\n",
    " 'Mali',\n",
    " 'United Arab Emirates',\n",
    " 'Zimbabwe',\n",
    " 'Sao Tome & Principe',\n",
    " 'Kuwait',\n",
    " 'Canada',\n",
    " 'Vietnam',\n",
    " 'Zambia',\n",
    " 'Rwanda',\n",
    " 'Kosovo',\n",
    " 'Nepal',\n",
    " 'Indonesia',\n",
    " 'Suriname',\n",
    " 'Mali',\n",
    " 'Chile',\n",
    " 'Luxembourg',\n",
    " 'Papua New Guinea',\n",
    " 'Norway',\n",
    " 'Brunei',\n",
    " 'Ecuador',\n",
    " 'Turkey',\n",
    " 'Pakistan',\n",
    " 'Mozambique',\n",
    " 'Senegal',\n",
    " 'Algeria',\n",
    " 'Laos',\n",
    " 'Vietnam',\n",
    " 'Kosovo',\n",
    " 'Belize',\n",
    " 'Bhutan',\n",
    " 'Andorra',\n",
    " 'Russian Federation',\n",
    " 'Cambodia',\n",
    " 'Madagascar',\n",
    " 'Slovenia',\n",
    " 'Malaysia',\n",
    " 'Belgium',\n",
    " 'Sweden',\n",
    " 'Nepal',\n",
    " 'Germany',\n",
    " 'Fiji',\n",
    " 'Australia',\n",
    " 'Kenya',\n",
    " 'Sudan',\n",
    " 'Nepal',\n",
    " 'Niger',\n",
    " 'Palau',\n",
    " 'Serbia',\n",
    " 'Chad',\n",
    " 'Bhutan',\n",
    " 'Poland',\n",
    " 'Nicaragua',\n",
    " 'Barbados',\n",
    " 'Hungary',\n",
    " 'Algeria',\n",
    " 'Ukraine',\n",
    " 'China',\n",
    " 'Latvia',\n",
    " 'Panama',\n",
    " 'Papua New Guinea',\n",
    " 'Sweden',\n",
    " 'Zimbabwe',\n",
    " 'Jordan',\n",
    " 'Sao Tome & Principe',\n",
    " 'Mexico',\n",
    " 'Sudan',\n",
    " 'Czech Republic',\n",
    " 'New Zealand',\n",
    " 'Uruguay',\n",
    " 'Kuwait',\n",
    " 'Liberia',\n",
    " 'Canada',\n",
    " 'Seychelles',\n",
    " 'Liberia',\n",
    " 'Saudi Arabia',\n",
    " 'Sierra Leone',\n",
    " 'South Sudan',\n",
    " 'Bolivia',\n",
    " 'Philippines',\n",
    " 'Mauritania',\n",
    " 'United States',\n",
    " 'Hungary',\n",
    " 'Bhutan',\n",
    " 'Netherlands',\n",
    " 'Burkina',\n",
    " 'Congo {Democratic Rep}',\n",
    " 'Central African Rep',\n",
    " 'Burkina',\n",
    " 'Poland',\n",
    " 'Guinea',\n",
    " 'United States',\n",
    " 'Luxembourg',\n",
    " 'Chile',\n",
    " 'Kuwait',\n",
    " 'Vatican City',\n",
    " 'Maldives',\n",
    " 'Ethiopia',\n",
    " 'France',\n",
    " 'Mozambique',\n",
    " 'Nicaragua',\n",
    " 'Portugal',\n",
    " 'United States',\n",
    " 'South Sudan',\n",
    " 'Bangladesh',\n",
    " 'Belize',\n",
    " 'Mozambique',\n",
    " 'Pakistan',\n",
    " 'Sao Tome & Principe',\n",
    " 'Israel',\n",
    " 'Antigua & Deps',\n",
    " 'Equatorial Guinea',\n",
    " 'Grenada',\n",
    " 'Liberia',\n",
    " 'Nauru',\n",
    " 'St Kitts & Nevis',\n",
    " 'Armenia',\n",
    " 'Italy',\n",
    " 'San Marino',\n",
    " 'Congo {Democratic Rep}',\n",
    " 'Suriname',\n",
    " 'Mauritius',\n",
    " 'Albania',\n",
    " 'Samoa',\n",
    " 'Bosnia Herzegovina',\n",
    " 'South Sudan',\n",
    " 'Trinidad & Tobago',\n",
    " 'Nigeria',\n",
    " 'Bolivia',\n",
    " 'South Africa',\n",
    " 'Qatar',\n",
    " 'South Sudan',\n",
    " 'Morocco',\n",
    " 'Benin',\n",
    " 'Kuwait',\n",
    " 'Tajikistan',\n",
    " 'Guyana',\n",
    " 'Indonesia',\n",
    " 'Turkmenistan',\n",
    " 'Sierra Leone',\n",
    " 'Mali',\n",
    " 'Antigua & Deps',\n",
    " 'Turkmenistan',\n",
    " 'Seychelles',\n",
    " 'Bulgaria',\n",
    " 'Rwanda',\n",
    " 'Czech Republic',\n",
    " 'Philippines',\n",
    " 'Norway',\n",
    " 'Germany',\n",
    " 'Tonga',\n",
    " 'United Arab Emirates',\n",
    " 'Syria',\n",
    " 'Bahamas',\n",
    " 'Armenia',\n",
    " 'Paraguay',\n",
    " 'Zambia',\n",
    " 'Samoa',\n",
    " 'Senegal',\n",
    " 'Kiribati',\n",
    " 'Taiwan',\n",
    " 'Gabon',\n",
    " 'Cuba',\n",
    " 'Comoros',\n",
    " 'Bhutan',\n",
    " 'Seychelles',\n",
    " 'Mexico',\n",
    " 'Bhutan',\n",
    " 'El Salvador',\n",
    " 'Tunisia',\n",
    " 'Liechtenstein',\n",
    " 'Czech Republic',\n",
    " 'Congo',\n",
    " 'Jordan',\n",
    " 'Djibouti',\n",
    " 'Macedonia',\n",
    " 'Finland',\n",
    " 'Denmark',\n",
    " 'San Marino',\n",
    " 'Cuba',\n",
    " 'Botswana',\n",
    " 'Equatorial Guinea',\n",
    " 'United Kingdom',\n",
    " 'Tanzania',\n",
    " 'Bosnia Herzegovina',\n",
    " 'Algeria',\n",
    " 'El Salvador',\n",
    " 'Senegal',\n",
    " 'Myanmar, {Burma}',\n",
    " 'Pakistan',\n",
    " 'Malaysia',\n",
    " 'Oman',\n",
    " 'Tanzania',\n",
    " 'Gabon',\n",
    " 'Tonga',\n",
    " 'Vietnam',\n",
    " 'Sudan',\n",
    " 'Slovakia',\n",
    " 'Tajikistan',\n",
    " 'Kyrgyzstan',\n",
    " 'Kiribati',\n",
    " 'Zambia',\n",
    " 'San Marino',\n",
    " 'Saudi Arabia',\n",
    " 'South Sudan',\n",
    " 'Mexico',\n",
    " 'Uruguay',\n",
    " 'Cyprus',\n",
    " 'Syria',\n",
    " 'Panama',\n",
    " 'Sierra Leone',\n",
    " 'Finland',\n",
    " 'Iraq',\n",
    " 'United States',\n",
    " 'Dominican Republic',\n",
    " 'Czech Republic',\n",
    " 'Latvia',\n",
    " 'Bolivia',\n",
    " 'Korea North',\n",
    " 'Angola',\n",
    " 'Germany',\n",
    " 'Malawi',\n",
    " 'Guinea-Bissau',\n",
    " 'Ghana',\n",
    " 'Lithuania',\n",
    " 'East Timor',\n",
    " 'Honduras',\n",
    " 'Bahamas',\n",
    " 'Algeria',\n",
    " 'Luxembourg',\n",
    " 'Eritrea',\n",
    " 'Gabon',\n",
    " 'Mauritania',\n",
    " 'Cambodia',\n",
    " 'Solomon Islands',\n",
    " 'Haiti',\n",
    " 'Jamaica',\n",
    " 'Kyrgyzstan',\n",
    " 'Tanzania',\n",
    " 'Marshall Islands',\n",
    " 'Lithuania',\n",
    " 'Bahrain',\n",
    " 'East Timor',\n",
    " 'Botswana',\n",
    " 'Marshall Islands',\n",
    " 'Grenada',\n",
    " 'France',\n",
    " 'St Lucia',\n",
    " 'Eritrea',\n",
    " 'Azerbaijan',\n",
    " 'Ghana',\n",
    " 'New Zealand',\n",
    " 'El Salvador',\n",
    " 'Cape Verde',\n",
    " 'Hungary',\n",
    " 'Botswana',\n",
    " 'Bosnia Herzegovina',\n",
    " 'Kuwait',\n",
    " 'Saudi Arabia',\n",
    " 'Indonesia',\n",
    " 'Qatar',\n",
    " 'Germany',\n",
    " 'Argentina',\n",
    " 'Georgia',\n",
    " 'Fiji',\n",
    " 'Tajikistan',\n",
    " 'Vanuatu',\n",
    " 'Samoa',\n",
    " 'Togo',\n",
    " 'Gambia',\n",
    " 'Sudan',\n",
    " 'Cambodia',\n",
    " 'Argentina',\n",
    " 'Canada',\n",
    " 'Nepal',\n",
    " 'Grenada',\n",
    " 'Vietnam',\n",
    " 'Cameroon',\n",
    " 'Cameroon',\n",
    " 'Lebanon',\n",
    " 'Rwanda',\n",
    " 'United Kingdom',\n",
    " 'Cambodia',\n",
    " 'Paraguay',\n",
    " 'Guinea',\n",
    " 'Kosovo',\n",
    " 'Switzerland',\n",
    " 'Mauritius',\n",
    " 'Fiji',\n",
    " 'Paraguay',\n",
    " 'Thailand',\n",
    " 'Eritrea',\n",
    " 'Guatemala',\n",
    " 'Suriname',\n",
    " 'Palau',\n",
    " 'Mozambique',\n",
    " 'Bangladesh',\n",
    " 'Australia',\n",
    " 'South Africa',\n",
    " 'Yemen',\n",
    " 'India',\n",
    " 'Peru',\n",
    " 'Korea North',\n",
    " 'Oman',\n",
    " 'Moldova',\n",
    " 'St Kitts & Nevis',\n",
    " 'Benin',\n",
    " 'India',\n",
    " 'Grenada',\n",
    " 'Taiwan',\n",
    " 'Madagascar',\n",
    " 'Paraguay',\n",
    " 'Angola',\n",
    " 'Saudi Arabia',\n",
    " 'Antigua & Deps',\n",
    " 'Marshall Islands',\n",
    " 'Micronesia',\n",
    " 'Benin',\n",
    " 'Monaco',\n",
    " 'Cuba',\n",
    " 'Kuwait',\n",
    " 'Serbia',\n",
    " 'Oman',\n",
    " 'Bahamas',\n",
    " 'Norway',\n",
    " 'Thailand',\n",
    " 'Malawi',\n",
    " 'Guyana',\n",
    " 'Denmark',\n",
    " 'South Africa',\n",
    " 'China',\n",
    " 'Oman',\n",
    " 'New Zealand',\n",
    " 'Austria',\n",
    " 'Venezuela',\n",
    " 'Syria',\n",
    " 'Rwanda',\n",
    " 'Dominican Republic',\n",
    " 'Algeria',\n",
    " 'Honduras',\n",
    " 'Solomon Islands',\n",
    " 'Palau',\n",
    " 'Cape Verde',\n",
    " 'Ghana',\n",
    " 'Algeria',\n",
    " 'Pakistan',\n",
    " 'Morocco',\n",
    " 'Kenya',\n",
    " 'Switzerland',\n",
    " 'Malta',\n",
    " 'China',\n",
    " 'South Sudan',\n",
    " 'Jamaica',\n",
    " 'East Timor',\n",
    " 'Malta',\n",
    " 'Benin',\n",
    " 'China',\n",
    " 'Algeria',\n",
    " 'United Kingdom',\n",
    " 'Palau',\n",
    " 'Ireland {Republic}',\n",
    " 'Maldives',\n",
    " 'Swaziland',\n",
    " 'Guinea',\n",
    " 'Haiti',\n",
    " 'Lesotho',\n",
    " 'Korea South',\n",
    " 'Italy',\n",
    " 'Nigeria',\n",
    " 'Kiribati',\n",
    " 'Kyrgyzstan',\n",
    " 'Antigua & Deps',\n",
    " 'Saint Vincent & the Grenadines',\n",
    " 'United States',\n",
    " 'Mongolia',\n",
    " 'Saudi Arabia',\n",
    " 'Haiti',\n",
    " 'Czech Republic',\n",
    " 'Portugal',\n",
    " 'Mauritius',\n",
    " 'Samoa',\n",
    " 'Honduras',\n",
    " 'Vietnam',\n",
    " 'Algeria',\n",
    " 'Marshall Islands',\n",
    " 'Kiribati',\n",
    " 'Fiji',\n",
    " 'Ivory Coast',\n",
    " 'Tajikistan',\n",
    " 'Nicaragua',\n",
    " 'Portugal',\n",
    " 'Equatorial Guinea',\n",
    " 'Ivory Coast',\n",
    " 'Zambia',\n",
    " 'New Zealand',\n",
    " 'Somalia',\n",
    " 'Senegal',\n",
    " 'Mongolia',\n",
    " 'Montenegro',\n",
    " 'Ghana',\n",
    " 'Bahrain',\n",
    " 'Laos',\n",
    " 'Paraguay',\n",
    " 'Guinea-Bissau',\n",
    " 'Bosnia Herzegovina',\n",
    " 'Tanzania',\n",
    " 'Gambia',\n",
    " 'Sierra Leone',\n",
    " 'Canada',\n",
    " 'Bolivia',\n",
    " 'Iraq',\n",
    " 'Ivory Coast',\n",
    " 'Zimbabwe',\n",
    " 'Turkmenistan',\n",
    " 'Bhutan',\n",
    " 'Venezuela',\n",
    " 'Ghana',\n",
    " 'Panama',\n",
    " 'Philippines',\n",
    " 'Kenya',\n",
    " 'Mali',\n",
    " 'Tunisia',\n",
    " 'Turkmenistan',\n",
    " 'Ukraine',\n",
    " 'Egypt',\n",
    " 'Burundi',\n",
    " 'Qatar',\n",
    " 'Latvia',\n",
    " 'Slovenia',\n",
    " 'Gambia',\n",
    " 'Algeria',\n",
    " 'Poland',\n",
    " 'Myanmar, {Burma}',\n",
    " 'Panama',\n",
    " 'Myanmar, {Burma}',\n",
    " 'Central African Rep',\n",
    " 'United Kingdom',\n",
    " 'Comoros',\n",
    " 'Yemen',\n",
    " 'Liechtenstein',\n",
    " 'Gambia',\n",
    " 'Ethiopia',\n",
    " 'Malaysia',\n",
    " 'Italy',\n",
    " 'Brazil',\n",
    " 'Brazil',\n",
    " 'Russian Federation',\n",
    " 'Nicaragua',\n",
    " 'Switzerland',\n",
    " 'Georgia',\n",
    " 'Georgia',\n",
    " 'Dominica',\n",
    " 'Liberia',\n",
    " 'Tonga',\n",
    " 'St Kitts & Nevis',\n",
    " 'Vatican City',\n",
    " 'Luxembourg',\n",
    " 'Barbados',\n",
    " 'Croatia',\n",
    " 'Samoa',\n",
    " 'St Lucia',\n",
    " 'Comoros',\n",
    " 'Burundi',\n",
    " 'Philippines',\n",
    " 'Mali',\n",
    " 'Yemen',\n",
    " 'Singapore',\n",
    " 'Brazil',\n",
    " 'Benin',\n",
    " 'Slovenia',\n",
    " 'Qatar',\n",
    " 'Tajikistan',\n",
    " 'Qatar',\n",
    " 'Seychelles',\n",
    " 'Somalia',\n",
    " 'Zimbabwe',\n",
    " 'Marshall Islands',\n",
    " 'Ukraine',\n",
    " 'Japan',\n",
    " 'Sudan',\n",
    " 'St Kitts & Nevis',\n",
    " 'Botswana',\n",
    " 'Slovakia',\n",
    " 'Azerbaijan',\n",
    " 'Philippines',\n",
    " 'United States',\n",
    " 'Nauru',\n",
    " 'Albania',\n",
    " 'Burundi',\n",
    " 'Dominican Republic',\n",
    " 'Bolivia',\n",
    " 'France',\n",
    " 'Antigua & Deps',\n",
    " 'Georgia',\n",
    " 'Finland',\n",
    " 'Benin',\n",
    " 'Oman',\n",
    " 'Dominica',\n",
    " 'Belize',\n",
    " 'South Africa',\n",
    " 'Libya',\n",
    " 'Cyprus',\n",
    " 'Ecuador',\n",
    " 'France',\n",
    " 'Namibia',\n",
    " 'Zimbabwe',\n",
    " 'Dominica',\n",
    " 'Belgium',\n",
    " 'United Arab Emirates',\n",
    " 'Pakistan',\n",
    " 'Colombia',\n",
    " 'Vatican City',\n",
    " 'Chad',\n",
    " 'Algeria',\n",
    " 'Malaysia',\n",
    " 'Cambodia',\n",
    " 'Equatorial Guinea',\n",
    " 'Slovenia',\n",
    " 'Bolivia',\n",
    " 'Kazakhstan',\n",
    " 'Japan',\n",
    " 'New Zealand',\n",
    " 'Morocco',\n",
    " 'Romania',\n",
    " 'Mexico',\n",
    " 'Tonga',\n",
    " 'Eritrea',\n",
    " 'Senegal',\n",
    " 'Belize',\n",
    " 'Kosovo',\n",
    " 'Benin',\n",
    " 'Eritrea',\n",
    " 'Egypt',\n",
    " 'Korea North',\n",
    " 'Taiwan',\n",
    " 'Taiwan',\n",
    " 'Guatemala',\n",
    " 'Slovenia',\n",
    " 'Somalia',\n",
    " 'Spain',\n",
    " 'Libya',\n",
    " 'Dominica',\n",
    " 'Togo',\n",
    " 'Taiwan',\n",
    " 'Morocco',\n",
    " 'Finland',\n",
    " 'Iraq',\n",
    " 'Albania',\n",
    " 'Hungary',\n",
    " 'Angola',\n",
    " 'St Lucia',\n",
    " 'Seychelles',\n",
    " 'Seychelles',\n",
    " 'Andorra',\n",
    " 'Serbia',\n",
    " 'Mauritius',\n",
    " 'Jamaica',\n",
    " 'Ivory Coast',\n",
    " 'Sudan',\n",
    " 'Bahrain',\n",
    " 'Australia',\n",
    " 'France',\n",
    " 'China',\n",
    " 'United Kingdom',\n",
    " 'Marshall Islands',\n",
    " 'Guinea',\n",
    " 'Japan',\n",
    " 'Cuba',\n",
    " 'Sierra Leone',\n",
    " 'Sri Lanka',\n",
    " 'Antigua & Deps',\n",
    " 'Georgia',\n",
    " 'India',\n",
    " 'Germany',\n",
    " 'Congo',\n",
    " 'Cameroon',\n",
    " 'Brunei',\n",
    " 'Uganda',\n",
    " 'South Africa',\n",
    " 'Ecuador',\n",
    " 'St Lucia',\n",
    " 'Congo {Democratic Rep}',\n",
    " 'Bahamas',\n",
    " 'Syria',\n",
    " 'Czech Republic',\n",
    " 'Pakistan',\n",
    " 'Tanzania',\n",
    " 'Sao Tome & Principe',\n",
    " 'Burkina',\n",
    " 'Nigeria',\n",
    " 'Mali',\n",
    " 'Greece',\n",
    " 'Vatican City',\n",
    " 'South Sudan',\n",
    " 'Morocco',\n",
    " 'Burkina',\n",
    " 'Switzerland',\n",
    " 'Kosovo',\n",
    " 'Gabon',\n",
    " 'Paraguay',\n",
    " 'Romania',\n",
    " 'Mongolia',\n",
    " 'Zambia',\n",
    " 'Syria',\n",
    " 'Netherlands',\n",
    " 'Zambia',\n",
    " 'Dominican Republic',\n",
    " 'Iceland',\n",
    " 'Libya',\n",
    " 'Lebanon',\n",
    " 'Antigua & Deps',\n",
    " 'Albania',\n",
    " 'Turkey',\n",
    " 'New Zealand',\n",
    " 'Somalia',\n",
    " 'Guinea-Bissau',\n",
    " 'El Salvador',\n",
    " 'Israel',\n",
    " 'Central African Rep',\n",
    " 'Korea North',\n",
    " 'Zambia',\n",
    " 'Switzerland',\n",
    " 'Taiwan',\n",
    " 'Namibia',\n",
    " 'Mauritania',\n",
    " 'Sudan',\n",
    " 'Ghana',\n",
    " 'Moldova',\n",
    " 'East Timor',\n",
    " 'Brunei',\n",
    " 'Swaziland',\n",
    " 'Cambodia',\n",
    " 'Saint Vincent & the Grenadines',\n",
    " 'Netherlands',\n",
    " 'Papua New Guinea',\n",
    " 'Georgia',\n",
    " 'Tonga',\n",
    " 'Mauritius',\n",
    " 'Canada',\n",
    " 'Guinea-Bissau',\n",
    " 'Norway',\n",
    " 'Singapore',\n",
    " 'Morocco',\n",
    " 'Cape Verde',\n",
    " 'Pakistan',\n",
    " 'Central African Rep',\n",
    " 'Myanmar, {Burma}',\n",
    " 'United Arab Emirates',\n",
    " 'Maldives',\n",
    " 'Ghana',\n",
    " 'Saudi Arabia',\n",
    " 'Netherlands',\n",
    " 'Albania',\n",
    " 'Bahamas',\n",
    " 'Papua New Guinea',\n",
    " 'Kosovo',\n",
    " 'Lesotho',\n",
    " 'Panama',\n",
    " 'Argentina',\n",
    " 'India',\n",
    " 'Kazakhstan',\n",
    " 'Angola',\n",
    " 'Guinea',\n",
    " 'Ukraine',\n",
    " 'Congo',\n",
    " 'Bahrain',\n",
    " 'Israel',\n",
    " 'Sudan',\n",
    " 'Qatar',\n",
    " 'Belarus',\n",
    " 'Ghana',\n",
    " 'Algeria',\n",
    " 'Macedonia',\n",
    " 'Grenada',\n",
    " 'Spain',\n",
    " 'Antigua & Deps',\n",
    " 'Comoros',\n",
    " 'Egypt',\n",
    " 'Belize',\n",
    " 'Haiti',\n",
    " 'Eritrea',\n",
    " 'Poland',\n",
    " 'Bhutan',\n",
    " 'Cape Verde',\n",
    " 'Uganda',\n",
    " 'Syria',\n",
    " 'Libya',\n",
    " 'Thailand',\n",
    " 'Bahrain',\n",
    " 'Slovenia',\n",
    " 'Luxembourg',\n",
    " 'Tunisia',\n",
    " 'Guinea-Bissau',\n",
    " 'Bhutan',\n",
    " 'Uzbekistan',\n",
    " 'Togo',\n",
    " 'Madagascar',\n",
    " 'Greece',\n",
    " 'Guinea-Bissau',\n",
    " 'Afghanistan',\n",
    " 'Zambia',\n",
    " 'Hungary',\n",
    " 'Albania',\n",
    " 'India',\n",
    " 'Sao Tome & Principe',\n",
    " 'Honduras',\n",
    " 'Albania',\n",
    " 'Cape Verde',\n",
    " 'Turkmenistan',\n",
    " 'Antigua & Deps']"
   ]
  },
  {
   "cell_type": "code",
   "execution_count": 339,
   "metadata": {
    "collapsed": false
   },
   "outputs": [],
   "source": [
    "country_counts={}\n",
    "for country in country_list:\n",
    "    if country in country_counts:\n",
    "        country_counts[country] += 1\n",
    "    else:\n",
    "        country_counts[country] = 1"
   ]
  },
  {
   "cell_type": "code",
   "execution_count": 340,
   "metadata": {
    "collapsed": false
   },
   "outputs": [
    {
     "data": {
      "text/plain": [
       "{'Afghanistan': 1,\n",
       " 'Albania': 8,\n",
       " 'Algeria': 11,\n",
       " 'Andorra': 3,\n",
       " 'Angola': 5,\n",
       " 'Antigua & Deps': 9,\n",
       " 'Argentina': 3,\n",
       " 'Armenia': 2,\n",
       " 'Australia': 3,\n",
       " 'Austria': 4,\n",
       " 'Azerbaijan': 2,\n",
       " 'Bahamas': 6,\n",
       " 'Bahrain': 5,\n",
       " 'Bangladesh': 2,\n",
       " 'Barbados': 3,\n",
       " 'Belarus': 2,\n",
       " 'Belgium': 2,\n",
       " 'Belize': 5,\n",
       " 'Benin': 7,\n",
       " 'Bhutan': 8,\n",
       " 'Bolivia': 6,\n",
       " 'Bosnia Herzegovina': 4,\n",
       " 'Botswana': 4,\n",
       " 'Brazil': 3,\n",
       " 'Brunei': 3,\n",
       " 'Bulgaria': 2,\n",
       " 'Burkina': 5,\n",
       " 'Burundi': 3,\n",
       " 'Cambodia': 7,\n",
       " 'Cameroon': 3,\n",
       " 'Canada': 6,\n",
       " 'Cape Verde': 5,\n",
       " 'Central African Rep': 4,\n",
       " 'Chad': 3,\n",
       " 'Chile': 2,\n",
       " 'China': 5,\n",
       " 'Colombia': 2,\n",
       " 'Comoros': 5,\n",
       " 'Congo': 3,\n",
       " 'Congo {Democratic Rep}': 4,\n",
       " 'Croatia': 1,\n",
       " 'Cuba': 4,\n",
       " 'Cyprus': 2,\n",
       " 'Czech Republic': 6,\n",
       " 'Denmark': 2,\n",
       " 'Djibouti': 2,\n",
       " 'Dominica': 4,\n",
       " 'Dominican Republic': 5,\n",
       " 'East Timor': 4,\n",
       " 'Ecuador': 4,\n",
       " 'Egypt': 3,\n",
       " 'El Salvador': 5,\n",
       " 'Equatorial Guinea': 4,\n",
       " 'Eritrea': 6,\n",
       " 'Ethiopia': 2,\n",
       " 'Fiji': 4,\n",
       " 'Finland': 4,\n",
       " 'France': 5,\n",
       " 'Gabon': 4,\n",
       " 'Gambia': 4,\n",
       " 'Georgia': 6,\n",
       " 'Germany': 6,\n",
       " 'Ghana': 8,\n",
       " 'Greece': 3,\n",
       " 'Grenada': 5,\n",
       " 'Guatemala': 2,\n",
       " 'Guinea': 5,\n",
       " 'Guinea-Bissau': 6,\n",
       " 'Guyana': 3,\n",
       " 'Haiti': 4,\n",
       " 'Honduras': 5,\n",
       " 'Hungary': 5,\n",
       " 'Iceland': 1,\n",
       " 'India': 5,\n",
       " 'Indonesia': 3,\n",
       " 'Iraq': 4,\n",
       " 'Ireland {Republic}': 1,\n",
       " 'Israel': 4,\n",
       " 'Italy': 3,\n",
       " 'Ivory Coast': 5,\n",
       " 'Jamaica': 4,\n",
       " 'Japan': 3,\n",
       " 'Jordan': 2,\n",
       " 'Kazakhstan': 3,\n",
       " 'Kenya': 3,\n",
       " 'Kiribati': 4,\n",
       " 'Korea North': 4,\n",
       " 'Korea South': 1,\n",
       " 'Kosovo': 6,\n",
       " 'Kuwait': 7,\n",
       " 'Kyrgyzstan': 3,\n",
       " 'Laos': 2,\n",
       " 'Latvia': 3,\n",
       " 'Lebanon': 3,\n",
       " 'Lesotho': 2,\n",
       " 'Liberia': 4,\n",
       " 'Libya': 6,\n",
       " 'Liechtenstein': 3,\n",
       " 'Lithuania': 2,\n",
       " 'Luxembourg': 5,\n",
       " 'Macedonia': 3,\n",
       " 'Madagascar': 3,\n",
       " 'Malawi': 2,\n",
       " 'Malaysia': 5,\n",
       " 'Maldives': 3,\n",
       " 'Mali': 8,\n",
       " 'Malta': 3,\n",
       " 'Marshall Islands': 7,\n",
       " 'Mauritania': 3,\n",
       " 'Mauritius': 6,\n",
       " 'Mexico': 4,\n",
       " 'Micronesia': 1,\n",
       " 'Moldova': 4,\n",
       " 'Monaco': 2,\n",
       " 'Mongolia': 3,\n",
       " 'Montenegro': 2,\n",
       " 'Morocco': 9,\n",
       " 'Mozambique': 4,\n",
       " 'Myanmar, {Burma}': 4,\n",
       " 'Namibia': 4,\n",
       " 'Nauru': 3,\n",
       " 'Nepal': 4,\n",
       " 'Netherlands': 6,\n",
       " 'New Zealand': 7,\n",
       " 'Nicaragua': 4,\n",
       " 'Niger': 2,\n",
       " 'Nigeria': 3,\n",
       " 'Norway': 4,\n",
       " 'Oman': 6,\n",
       " 'Pakistan': 8,\n",
       " 'Palau': 4,\n",
       " 'Panama': 6,\n",
       " 'Papua New Guinea': 5,\n",
       " 'Paraguay': 6,\n",
       " 'Peru': 2,\n",
       " 'Philippines': 5,\n",
       " 'Poland': 5,\n",
       " 'Portugal': 3,\n",
       " 'Qatar': 7,\n",
       " 'Romania': 2,\n",
       " 'Russian Federation': 2,\n",
       " 'Rwanda': 4,\n",
       " 'Saint Vincent & the Grenadines': 2,\n",
       " 'Samoa': 5,\n",
       " 'San Marino': 3,\n",
       " 'Sao Tome & Principe': 5,\n",
       " 'Saudi Arabia': 6,\n",
       " 'Senegal': 5,\n",
       " 'Serbia': 3,\n",
       " 'Seychelles': 6,\n",
       " 'Sierra Leone': 5,\n",
       " 'Singapore': 2,\n",
       " 'Slovakia': 2,\n",
       " 'Slovenia': 6,\n",
       " 'Solomon Islands': 2,\n",
       " 'Somalia': 4,\n",
       " 'South Africa': 5,\n",
       " 'South Sudan': 7,\n",
       " 'Spain': 2,\n",
       " 'Sri Lanka': 2,\n",
       " 'St Kitts & Nevis': 4,\n",
       " 'St Lucia': 5,\n",
       " 'Sudan': 10,\n",
       " 'Suriname': 3,\n",
       " 'Swaziland': 2,\n",
       " 'Sweden': 2,\n",
       " 'Switzerland': 5,\n",
       " 'Syria': 6,\n",
       " 'Taiwan': 8,\n",
       " 'Tajikistan': 5,\n",
       " 'Tanzania': 5,\n",
       " 'Thailand': 4,\n",
       " 'Togo': 3,\n",
       " 'Tonga': 5,\n",
       " 'Trinidad & Tobago': 1,\n",
       " 'Tunisia': 4,\n",
       " 'Turkey': 2,\n",
       " 'Turkmenistan': 6,\n",
       " 'Tuvalu': 1,\n",
       " 'Uganda': 2,\n",
       " 'Ukraine': 4,\n",
       " 'United Arab Emirates': 4,\n",
       " 'United Kingdom': 5,\n",
       " 'United States': 6,\n",
       " 'Uruguay': 2,\n",
       " 'Uzbekistan': 1,\n",
       " 'Vanuatu': 2,\n",
       " 'Vatican City': 4,\n",
       " 'Venezuela': 3,\n",
       " 'Vietnam': 5,\n",
       " 'Yemen': 3,\n",
       " 'Zambia': 9,\n",
       " 'Zimbabwe': 5}"
      ]
     },
     "execution_count": 340,
     "metadata": {},
     "output_type": "execute_result"
    }
   ],
   "source": [
    "country_counts"
   ]
  },
  {
   "cell_type": "code",
   "execution_count": 341,
   "metadata": {
    "collapsed": false
   },
   "outputs": [
    {
     "name": "stdout",
     "output_type": "stream",
     "text": [
      "{'j': 1}\n",
      "{'j': 2}\n",
      "{'k': 1, 'j': 2}\n",
      "{'k': 1, 'j': 2, 'l': 1}\n",
      "{'k': 1, 'j': 2, 'l': 2}\n",
      "{'k': 1, 'j': 2, 'l': 2, 'w': 1}\n",
      "{'q': 1, 'k': 1, 'j': 2, 'l': 2, 'w': 1}\n"
     ]
    },
    {
     "data": {
      "text/plain": [
       "{'j': 2, 'k': 1, 'l': 2, 'q': 1, 'w': 1}"
      ]
     },
     "execution_count": 341,
     "metadata": {},
     "output_type": "execute_result"
    }
   ],
   "source": [
    "list=['j','j','k','l','l','w','q']\n",
    "l_counts={}\n",
    "for element in list:\n",
    "    if element in l_counts:\n",
    "        l_counts[element] += 1\n",
    "        print l_counts\n",
    "    else:\n",
    "        l_counts[element] = 1\n",
    "        print l_counts\n",
    "l_counts"
   ]
  },
  {
   "cell_type": "code",
   "execution_count": 342,
   "metadata": {
    "collapsed": false
   },
   "outputs": [],
   "source": [
    "Beatles_Discography = {\"Please Please Me\": 1963, \"With the Beatles\": 1963, \n",
    "    \"A Hard Day's Night\": 1964, \"Beatles for Sale\": 1964, \"Twist and Shout\": 1964,\n",
    "    \"Help\": 1965, \"Rubber Soul\": 1965, \"Revolver\": 1966,\n",
    "    \"Sgt. Pepper's Lonely Hearts Club Band\": 1967,\n",
    "    \"Magical Mystery Tour\": 1967, \"The Beatles\": 1968,\n",
    "    \"Yellow Submarine\": 1969 ,'Abbey Road': 1969,\n",
    "    \"Let It Be\": 1970}\n",
    "b_count={}\n",
    "for element in Beatles_Discography:\n",
    "    if element in b_count:\n",
    "        b_count[element]+=1\n",
    "    else:\n",
    "        b_count[element]=1\n"
   ]
  },
  {
   "cell_type": "code",
   "execution_count": 343,
   "metadata": {
    "collapsed": false
   },
   "outputs": [
    {
     "name": "stdout",
     "output_type": "stream",
     "text": [
      "{1963: 2, 1964: 3, 1965: 2, 1966: 1, 1967: 2, 1968: 1, 1969: 2, 1970: 1}\n"
     ]
    },
    {
     "data": {
      "text/plain": [
       "1964"
      ]
     },
     "execution_count": 343,
     "metadata": {},
     "output_type": "execute_result"
    }
   ],
   "source": [
    "import numpy as np\n",
    "c_count={}\n",
    "ma=0\n",
    "for element in Beatles_Discography.values():\n",
    "    if element in c_count:\n",
    "        c_count[element]+=1\n",
    "        if c_count[element]>ma:\n",
    "            ma=c_count[element]\n",
    "            choice=element\n",
    "    else:\n",
    "        c_count[element]=1\n",
    "print c_count\n",
    "np.max(c_count.values())\n",
    "choice"
   ]
  },
  {
   "cell_type": "code",
   "execution_count": 344,
   "metadata": {
    "collapsed": false
   },
   "outputs": [
    {
     "data": {
      "text/plain": [
       "1964"
      ]
     },
     "execution_count": 344,
     "metadata": {},
     "output_type": "execute_result"
    }
   ],
   "source": [
    "choice"
   ]
  },
  {
   "cell_type": "code",
   "execution_count": 345,
   "metadata": {
    "collapsed": false
   },
   "outputs": [],
   "source": [
    "elements = {'hydrogen': {'number': 1, 'weight': 1.00794, 'symbol': 'H'},\n",
    "            'helium': {'number': 2, 'weight': 4.002602, 'symbol': 'He'}}\n",
    "elements['hydrogen']['is_noble_gas'] = False\n",
    "elements['helium']['is_noble_gas'] = True"
   ]
  },
  {
   "cell_type": "code",
   "execution_count": 346,
   "metadata": {
    "collapsed": false
   },
   "outputs": [
    {
     "data": {
      "text/plain": [
       "{'helium': {'is_noble_gas': True,\n",
       "  'number': 2,\n",
       "  'symbol': 'He',\n",
       "  'weight': 4.002602},\n",
       " 'hydrogen': {'is_noble_gas': False,\n",
       "  'number': 1,\n",
       "  'symbol': 'H',\n",
       "  'weight': 1.00794}}"
      ]
     },
     "execution_count": 346,
     "metadata": {},
     "output_type": "execute_result"
    }
   ],
   "source": [
    "elements"
   ]
  },
  {
   "cell_type": "code",
   "execution_count": 365,
   "metadata": {
    "collapsed": false
   },
   "outputs": [],
   "source": [
    "monthly_takings = {'January': [54, 63], 'February': [64, 60], 'March': [63, 49],\n",
    "                   'April': [57, 42], 'May': [55, 37], 'June': [34, 32],\n",
    "                   'July': [69, 41, 32], 'August': [40, 61, 40], 'September': [51, 62],\n",
    "                   'October': [34, 58, 45], 'November': [67, 44], 'December': [41, 58]}\n"
   ]
  },
  {
   "cell_type": "code",
   "execution_count": 366,
   "metadata": {
    "collapsed": false
   },
   "outputs": [
    {
     "name": "stdout",
     "output_type": "stream",
     "text": [
      "124\n",
      "261\n",
      "378\n",
      "477\n",
      "588\n",
      "700\n",
      "841\n",
      "933\n",
      "1032\n",
      "1098\n",
      "1211\n",
      "1353\n"
     ]
    }
   ],
   "source": [
    "total=0\n",
    "for month in monthly_takings.keys():\n",
    "    total = total + sum(monthly_takings[month])\n",
    "    print total"
   ]
  },
  {
   "cell_type": "code",
   "execution_count": 367,
   "metadata": {
    "collapsed": false
   },
   "outputs": [
    {
     "data": {
      "text/plain": [
       "1353"
      ]
     },
     "execution_count": 367,
     "metadata": {},
     "output_type": "execute_result"
    }
   ],
   "source": [
    "total"
   ]
  },
  {
   "cell_type": "code",
   "execution_count": null,
   "metadata": {
    "collapsed": true
   },
   "outputs": [],
   "source": []
  }
 ],
 "metadata": {
  "kernelspec": {
   "display_name": "Python 2",
   "language": "python",
   "name": "python2"
  },
  "language_info": {
   "codemirror_mode": {
    "name": "ipython",
    "version": 2
   },
   "file_extension": ".py",
   "mimetype": "text/x-python",
   "name": "python",
   "nbconvert_exporter": "python",
   "pygments_lexer": "ipython2",
   "version": "2.7.13"
  }
 },
 "nbformat": 4,
 "nbformat_minor": 2
}
