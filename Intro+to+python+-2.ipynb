{
 "cells": [
  {
   "cell_type": "code",
   "execution_count": 1,
   "metadata": {
    "collapsed": true
   },
   "outputs": [],
   "source": [
    "def population_density(population,land_area):\n",
    "    pdensity=population/land_area\n",
    "    return(pdensity)"
   ]
  },
  {
   "cell_type": "code",
   "execution_count": 7,
   "metadata": {
    "collapsed": true
   },
   "outputs": [],
   "source": [
    "test1 = population_density(10, 3)"
   ]
  },
  {
   "cell_type": "code",
   "execution_count": 8,
   "metadata": {
    "collapsed": false
   },
   "outputs": [
    {
     "name": "stdout",
     "output_type": "stream",
     "text": [
      "3\n"
     ]
    }
   ],
   "source": [
    "print test1"
   ]
  },
  {
   "cell_type": "code",
   "execution_count": 9,
   "metadata": {
    "collapsed": false
   },
   "outputs": [
    {
     "name": "stdout",
     "output_type": "stream",
     "text": [
      "expected result: 10, actual result: 10\n",
      "expected result: 7123.6902801..., actual result: 7123.69028007\n"
     ]
    }
   ],
   "source": [
    "test1 = population_density(10, 1)\n",
    "expected_result1 = 10\n",
    "print(\"expected result: {}, actual result: {}\".format(expected_result1, test1))\n",
    "\n",
    "test2 = population_density(864816, 121.4)\n",
    "expected_result2 = 7123.6902801\n",
    "print(\"expected result: {}..., actual result: {}\".format(expected_result2, test2))"
   ]
  },
  {
   "cell_type": "code",
   "execution_count": null,
   "metadata": {
    "collapsed": true
   },
   "outputs": [],
   "source": [
    "#Docstrings are surrounded by triple quotes, \"\"\" used to comment inside body of functions to explain what the function does.\n",
    "#https://www.python.org/dev/peps/pep-0257/"
   ]
  },
  {
   "cell_type": "code",
   "execution_count": 18,
   "metadata": {
    "collapsed": false
   },
   "outputs": [
    {
     "name": "stdout",
     "output_type": "stream",
     "text": [
      "I wish to register a complaint.\n",
      "Finished calling function\n",
      "None\n"
     ]
    }
   ],
   "source": [
    "#doubt\n",
    "print('I wish to register a complaint.')\n",
    "print(\"Finished calling function\")\n",
    "print(return_value)"
   ]
  },
  {
   "cell_type": "code",
   "execution_count": 16,
   "metadata": {
    "collapsed": true
   },
   "outputs": [],
   "source": [
    "def print_testcase(expected_value, actual_value):\n",
    "    print(\"expected value: {}, actual value: {}\".format(expected_value, actual_value))"
   ]
  },
  {
   "cell_type": "code",
   "execution_count": 17,
   "metadata": {
    "collapsed": false
   },
   "outputs": [
    {
     "name": "stdout",
     "output_type": "stream",
     "text": [
      "expected value: 42, actual value: 42\n"
     ]
    }
   ],
   "source": [
    "return_value = print_testcase(42, 42)"
   ]
  },
  {
   "cell_type": "code",
   "execution_count": 23,
   "metadata": {
    "collapsed": true
   },
   "outputs": [],
   "source": [
    "def readable_timedelta(days):\n",
    "    nw=days/7\n",
    "    d=days%7\n",
    "    return(str(nw)+ 'week(s)'+' '+str(d)+' day(s)')"
   ]
  },
  {
   "cell_type": "code",
   "execution_count": 24,
   "metadata": {
    "collapsed": false
   },
   "outputs": [
    {
     "name": "stdout",
     "output_type": "stream",
     "text": [
      "1week(s) 3 day(s)\n"
     ]
    }
   ],
   "source": [
    "print(readable_timedelta(10))"
   ]
  },
  {
   "cell_type": "code",
   "execution_count": null,
   "metadata": {
    "collapsed": true
   },
   "outputs": [],
   "source": [
    "#doubt in command prompt"
   ]
  },
  {
   "cell_type": "code",
   "execution_count": 4,
   "metadata": {
    "collapsed": false
   },
   "outputs": [
    {
     "name": "stdout",
     "output_type": "stream",
     "text": [
      "(10, -10)\n"
     ]
    }
   ],
   "source": [
    "phone_balance=0\n",
    "bankbalance=0\n",
    "if phone_balance<10:\n",
    "    phone_balance+=10\n",
    "    bankbalance-=10\n",
    "\n",
    "print(phone_balance,bankbalance)"
   ]
  },
  {
   "cell_type": "code",
   "execution_count": 9,
   "metadata": {
    "collapsed": false
   },
   "outputs": [
    {
     "name": "stdout",
     "output_type": "stream",
     "text": [
      "12.62\n",
      "104.39\n",
      "The number 145346331 is odd.\n",
      "Somebody who is 155 years old will pay $1.25 to ride the bus.\n"
     ]
    }
   ],
   "source": [
    "#First Example - uncomment lines or change values to test the code\n",
    "phone_balance = 12.62\n",
    "bank_balance = 104.39\n",
    "#phone_balance = 12.34\n",
    "#bank_balance = 25\n",
    "if phone_balance < 10:\n",
    "    phone_balance += 10\n",
    "    bank_balance -= 10\n",
    "print(phone_balance)\n",
    "print(bank_balance)\n",
    "\n",
    "#Second Example\n",
    "\n",
    "#change the number to experiment!\n",
    "number = 145346331\n",
    "#number = 5 #3 sir\n",
    "if number % 2 == 0:\n",
    "    print(\"The number \" + str(number) + \" is even.\")\n",
    "else:\n",
    "    print(\"The number \" + str(number) + \" is odd.\")\n",
    "\n",
    "#Third Example \n",
    "\n",
    "#change the age to experiment with the pricing\n",
    "age = 155\n",
    "\n",
    "#set the age limits for bus fares\n",
    "free_up_to_age = 4\n",
    "child_up_to_age = 18\n",
    "senior_from_age = 65\n",
    "\n",
    "#set bus fares\n",
    "concession_ticket = 1.25\n",
    "adult_ticket = 2.50\n",
    "\n",
    "#ticket price logic\n",
    "if age <= free_up_to_age:\n",
    "    ticket_price = 0\n",
    "elif age <= child_up_to_age:\n",
    "    ticket_price = concession_ticket\n",
    "elif age >= senior_from_age:\n",
    "    ticket_price = concession_ticket\n",
    "else:\n",
    "    ticket_price = adult_ticket\n",
    "message = \"Somebody who is {} years old will pay ${} to ride the bus.\".format(age,ticket_price)\n",
    "print(message)"
   ]
  },
  {
   "cell_type": "code",
   "execution_count": 1,
   "metadata": {
    "collapsed": true
   },
   "outputs": [],
   "source": [
    "def which_prize(numberofpoints):\n",
    "    if (numberofpoints>=0) and (numberofpoints<=50):\n",
    "        return \"Congratulations! You have won a wooden rabbit!\"\n",
    "    elif (numberofpoints>=51) and (numberofpoints<=150):\n",
    "        return \"Oh dear, no prize this time.\"\n",
    "    elif (numberofpoints>=151) and (numberofpoints<=180):\n",
    "        return \"Congratulations! You have won a wafer-thin mint!\"\n",
    "    elif (numberofpoints>=181) and (numberofpoints<=200):\n",
    "        return \"Congratulations! You have won a penguin!\"\n",
    "    else :\n",
    "        return \"unknown range\"\n",
    "    "
   ]
  },
  {
   "cell_type": "code",
   "execution_count": 2,
   "metadata": {
    "collapsed": false
   },
   "outputs": [
    {
     "data": {
      "text/plain": [
       "'Congratulations! You have won a wafer-thin mint!'"
      ]
     },
     "execution_count": 2,
     "metadata": {},
     "output_type": "execute_result"
    }
   ],
   "source": [
    "which_prize(180)"
   ]
  },
  {
   "cell_type": "code",
   "execution_count": null,
   "metadata": {
    "collapsed": true
   },
   "outputs": [],
   "source": [
    "#keywords like and, or and not -- to put simpler boolean expressions together\n",
    "#Note that as soon as return is executed in a function, execution will leave that function. \n",
    "#This means that you should see every return as a possible exit from the function, and make sure that there isn't something else you want to do afterwards. \n",
    "#The ordering of instructions in your code is extremely important!"
   ]
  },
  {
   "cell_type": "code",
   "execution_count": 9,
   "metadata": {
    "collapsed": false
   },
   "outputs": [],
   "source": [
    "def cylinder_surface_area(radius, height, has_top_and_bottom):\n",
    "    side_area = height * 6.28 * radius\n",
    "    if has_top_and_bottom:\n",
    "        top_area = 3.14 * radius ** 2\n",
    "        side_area += 2 * top_area\n",
    "    return side_area\n",
    "  "
   ]
  },
  {
   "cell_type": "code",
   "execution_count": 8,
   "metadata": {
    "collapsed": true
   },
   "outputs": [],
   "source": [
    "def cylinder_surface_area(radius, height, has_top_and_bottom):\n",
    "    side_area = height * 6.28 * radius\n",
    "    if has_top_and_bottom:\n",
    "        top_area = 3.14 * radius ** 2\n",
    "        return 2 * top_area + side_area\n",
    "    else:\n",
    "        return side_area"
   ]
  },
  {
   "cell_type": "code",
   "execution_count": 19,
   "metadata": {
    "collapsed": true
   },
   "outputs": [],
   "source": [
    "def which_prize(numberofpoints):\n",
    "    prize = None\n",
    "    if (numberofpoints>=0) and (numberofpoints<=50):\n",
    "        prize= \"Congratulations! You have won a wooden rabbit!\"\n",
    "    elif (numberofpoints>=51) and (numberofpoints<=150):\n",
    "        prize=\"Oh dear, no prize this time.\"\n",
    "    elif (numberofpoints>=151) and (numberofpoints<=180):\n",
    "        prize= \"Congratulations! You have won a wafer-thin mint!\"\n",
    "    elif (numberofpoints>=181) and (numberofpoints<=200):\n",
    "        prize= \"Congratulations! You have won a penguin!\"\n",
    "    if prize:\n",
    "        return prize"
   ]
  },
  {
   "cell_type": "code",
   "execution_count": 21,
   "metadata": {
    "collapsed": false
   },
   "outputs": [
    {
     "data": {
      "text/plain": [
       "'Oh dear, no prize this time.'"
      ]
     },
     "execution_count": 21,
     "metadata": {},
     "output_type": "execute_result"
    }
   ],
   "source": [
    "which_prize(150)"
   ]
  },
  {
   "cell_type": "code",
   "execution_count": 3,
   "metadata": {
    "collapsed": true
   },
   "outputs": [],
   "source": [
    "def convert_numeric(score):\n",
    "    score1=float(score)\n",
    "    return score1"
   ]
  },
  {
   "cell_type": "code",
   "execution_count": 4,
   "metadata": {
    "collapsed": false
   },
   "outputs": [
    {
     "data": {
      "text/plain": [
       "5.0"
      ]
     },
     "execution_count": 4,
     "metadata": {},
     "output_type": "execute_result"
    }
   ],
   "source": [
    "convert_numeric(5)"
   ]
  },
  {
   "cell_type": "code",
   "execution_count": 5,
   "metadata": {
    "collapsed": false
   },
   "outputs": [
    {
     "name": "stdout",
     "output_type": "stream",
     "text": [
      "18\n"
     ]
    }
   ],
   "source": [
    "def sum_of_middle_three(score1,score2,score3,score4,score5):\n",
    "    sum=(score1+score2+score3+score4+score5)-max(score1,score2,score3,score4,score5)-min(score1,score2,score3,score4,score5)\n",
    "    return sum\n",
    "\n",
    "x=sum_of_middle_three(4,5,6,7,8)\n",
    "print(x)"
   ]
  },
  {
   "cell_type": "code",
   "execution_count": 11,
   "metadata": {
    "collapsed": true
   },
   "outputs": [],
   "source": [
    "def score_to_rating_string(avgscore):\n",
    "    if(avgscore<1):\n",
    "        print(\"Terrible\")\n",
    "    elif(avgscore>=1 and avgscore<2):\n",
    "        print(\"Bad\")\n",
    "    elif(avgscore>=2 and avgscore<3):\n",
    "        print(\"OK\")\n",
    "    elif(avgscore>=3 and avgscore<4):\n",
    "        print(\"Good\")\n",
    "    elif(avgscore>=4 and avgscore<=5):\n",
    "        print(\"Excellent\")\n",
    "    else:\n",
    "        print(\"Error\")\n",
    "    return"
   ]
  },
  {
   "cell_type": "code",
   "execution_count": 12,
   "metadata": {
    "collapsed": false
   },
   "outputs": [
    {
     "name": "stdout",
     "output_type": "stream",
     "text": [
      "Error\n"
     ]
    }
   ],
   "source": [
    "score_to_rating_string(6)"
   ]
  },
  {
   "cell_type": "code",
   "execution_count": 24,
   "metadata": {
    "collapsed": false
   },
   "outputs": [
    {
     "name": "stdout",
     "output_type": "stream",
     "text": [
      "Terrible\n"
     ]
    }
   ],
   "source": [
    "    def convert_numeric(score):\n",
    "        s=float(score)\n",
    "        return s\n",
    "    \n",
    "    def sum_of_middle_three(score1,score2,score3,score4,score5):\n",
    "        sum=(score1+score2+score3+score4+score5)-max(score1,score2,score3,score4,score5)-min(score1,score2,score3,score4,score5)\n",
    "        return sum\n",
    "\n",
    "    def score_to_rating_string(avgscore):\n",
    "        if(avgscore<1):\n",
    "            rating=\"Terrible\"\n",
    "        elif(avgscore>=1 and avgscore<2):\n",
    "            rating=\"Bad\"\n",
    "        elif(avgscore>=2 and avgscore<3):\n",
    "            rating=\"OK\"\n",
    "        elif(avgscore>=3 and avgscore<4):\n",
    "            rating=\"Good\"\n",
    "        elif(avgscore>=4 and avgscore<=5):\n",
    "            rating=\"Excellent\"\n",
    "        else:\n",
    "            rating=\"Error\"\n",
    "        return rating\n",
    "\n",
    "    def scores_to_rating(score1,score2,score3,score4,score5):\n",
    "        score1=convert_numeric(score1)\n",
    "        score2=convert_numeric(score2)\n",
    "        score3=convert_numeric(score3)\n",
    "        score4=convert_numeric(score4)\n",
    "        score5=convert_numeric(score5)\n",
    "        average_score = sum_of_middle_three(score1,score2,score3,score4,score5)/3\n",
    "        rating = score_to_rating_string(average_score)\n",
    "        return rating\n",
    "\n",
    "d=scores_to_rating(\"0\",0,0,2,5)\n",
    "print d"
   ]
  },
  {
   "cell_type": "code",
   "execution_count": null,
   "metadata": {
    "collapsed": true
   },
   "outputs": [],
   "source": []
  }
 ],
 "metadata": {
  "kernelspec": {
   "display_name": "Python 2",
   "language": "python",
   "name": "python2"
  },
  "language_info": {
   "codemirror_mode": {
    "name": "ipython",
    "version": 2
   },
   "file_extension": ".py",
   "mimetype": "text/x-python",
   "name": "python",
   "nbconvert_exporter": "python",
   "pygments_lexer": "ipython2",
   "version": "2.7.13"
  }
 },
 "nbformat": 4,
 "nbformat_minor": 2
}
